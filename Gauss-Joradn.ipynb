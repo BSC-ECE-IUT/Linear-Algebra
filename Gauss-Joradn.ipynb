{
 "cells": [
  {
   "cell_type": "code",
   "execution_count": 3,
   "metadata": {},
   "outputs": [
    {
     "name": "stdout",
     "output_type": "stream",
     "text": [
      "[1.0, 0.0, -3.0, 4.0]\n",
      "[0.0, 1.0, -2.0, 5.0]\n",
      "[0.0, 0.0, 0.0, 0.0]\n"
     ]
    }
   ],
   "source": [
    "#Amirhossein Kargaran \n",
    "#id:9429523\n",
    "\n",
    "def swap(matrix, row,k):\n",
    "\ttemp = matrix[k]\n",
    "\tif (k != (row-1)):\n",
    "\t\tmatrix[k] = matrix[k+1]\n",
    "\t\tmatrix[k+1] = temp\n",
    "\t\tnormal(matrix,k,matrix[k][k],row+1)\n",
    "\t\teliminate(matrix,k,row,row+1)\n",
    "\n",
    "def normal(matrix,k, a,col):\n",
    "\tif (a!=0):\n",
    "\t\tfor j in range(col):\n",
    "\t\t\tmatrix[k][j] = matrix[k][j]/a\n",
    "\telse:\n",
    "\t\tswap(matrix,col-1,k)\n",
    "\n",
    "def eliminate(matrix, k, row,col):\n",
    "\tfor i in range(row):\n",
    "\t\tif (i!=k):\n",
    "\t\t\tb = matrix[i][k]\n",
    "\t\t\tfor j in range(col):\n",
    "\t\t\t\tmatrix[i][j] = matrix[i][j]-b*matrix[k][j]\n",
    "\n",
    "matrix = [[1,-2,1,-6],[2,-3,0,-7],[-1,3,-3,11]]\n",
    "\n",
    "row = 3\n",
    "col = 4\n",
    "\n",
    "for i in range(row):\n",
    "  for j in range(col):\n",
    "  \tif(i==j):\n",
    "  \t\ta = matrix[i][j]\n",
    "\t  \tnormal(matrix,i,a,col)\n",
    "\t  \teliminate(matrix,i,row,col)\n",
    "\n",
    "for i in range(len(matrix)):\n",
    "\tprint(matrix[i])"
   ]
  }
 ],
 "metadata": {
  "kernelspec": {
   "display_name": "Python 3",
   "language": "python",
   "name": "python3"
  },
  "language_info": {
   "codemirror_mode": {
    "name": "ipython",
    "version": 3
   },
   "file_extension": ".py",
   "mimetype": "text/x-python",
   "name": "python",
   "nbconvert_exporter": "python",
   "pygments_lexer": "ipython3",
   "version": "3.6.5"
  }
 },
 "nbformat": 4,
 "nbformat_minor": 2
}
