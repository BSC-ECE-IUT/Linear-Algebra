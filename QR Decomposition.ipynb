{
 "cells": [
  {
   "cell_type": "markdown",
   "metadata": {},
   "source": [
    "Amirhossein Kargaran - Behnam Jafarboland - Arman Pourghorban"
   ]
  },
  {
   "cell_type": "code",
   "execution_count": 5,
   "metadata": {},
   "outputs": [
    {
     "name": "stdout",
     "output_type": "stream",
     "text": [
      "Q = [[ 0.85714286 -0.39428571 -0.33142857]\n",
      " [ 0.42857143  0.90285714  0.03428571]\n",
      " [-0.28571429  0.17142857 -0.94285714]]\n",
      "R = [[ 14.  21. -14.]\n",
      " [  0. 175. -70.]\n",
      " [  0.   0.  35.]]\n"
     ]
    }
   ],
   "source": [
    "import numpy as np\n",
    "def mgs(A):\n",
    "    m,n = A.shape\n",
    "    v = np.zeros((m,n))\n",
    "    R = np.zeros((n,n))\n",
    "    Q = np.zeros((m,n))\n",
    "\n",
    "    for i in range(0,n):\n",
    "        v[:,i] = A[:,i]\n",
    "        \n",
    "    for i in range(0,n):\n",
    "        R[i,i] = np.linalg.norm(v[:,i],2)\n",
    "        Q[:,i] = v[:,i]/R[i,i]\n",
    "        for j in range(i,n):\n",
    "            R[i,j] = np.dot(Q[:,i].T, v[:,j])\n",
    "            v[:,j] = v[:,j] - R[i,j]*Q[:,i]\n",
    "\n",
    "    return (Q,R)\n",
    "\n",
    "if __name__ == '__main__':\n",
    "    A = np.array([[ 12, -51,   4],\n",
    "                  [  6, 167, -68],\n",
    "                  [ -4,  24, -41]])\n",
    "    Q, R = mgs(A)\n",
    "    print(\"Q = \" + str(Q))\n",
    "    print(\"R = \" + str(R))\n"
   ]
  }
 ],
 "metadata": {
  "kernelspec": {
   "display_name": "Python 3",
   "language": "python",
   "name": "python3"
  },
  "language_info": {
   "codemirror_mode": {
    "name": "ipython",
    "version": 3
   },
   "file_extension": ".py",
   "mimetype": "text/x-python",
   "name": "python",
   "nbconvert_exporter": "python",
   "pygments_lexer": "ipython3",
   "version": "3.6.5"
  }
 },
 "nbformat": 4,
 "nbformat_minor": 2
}
